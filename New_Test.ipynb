{
 "cells": [
  {
   "cell_type": "code",
   "execution_count": 1,
   "id": "bea4dcae",
   "metadata": {},
   "outputs": [
    {
     "name": "stderr",
     "output_type": "stream",
     "text": [
      "/home/pesante/anaconda3/envs/text2event/lib/python3.8/site-packages/transformers/models/auto/modeling_auto.py:1006: FutureWarning: The class `AutoModelWithLMHead` is deprecated and will be removed in a future version. Please use `AutoModelForCausalLM` for causal language models, `AutoModelForMaskedLM` for masked language models and `AutoModelForSeq2SeqLM` for encoder-decoder models.\n",
      "  warnings.warn(\n"
     ]
    }
   ],
   "source": [
    "from transformers import (\n",
    "    AutoConfig,\n",
    "    AutoModelForSeq2SeqLM,\n",
    "    AutoTokenizer,\n",
    "    DataCollatorForSeq2Seq,\n",
    "    HfArgumentParser,\n",
    "    MBartTokenizer,\n",
    "    default_data_collator,\n",
    "    AutoModelWithLMHead,\n",
    "    set_seed\n",
    ")\n",
    "\n",
    "model = AutoModelWithLMHead.from_pretrained(\"t5-base\")\n",
    "tokenizer = AutoTokenizer.from_pretrained(\"t5-base\")\n",
    "\n",
    "if tokenizer.encode(\"<Temp_S> <Temp_E>\") != [32000, 32001,1]:\n",
    "    # For non-t5 tokenizer\n",
    "    tokenizer.add_special_tokens(\n",
    "        {\"additional_special_tokens\": [\"<Temp_S>\", \"<Temp_E>\", \"<Relation_S>\", \"<Relation_E>\", \\\n",
    "            \"<ORG>\", \"<VEH>\", \"<WEA>\", \"<LOC>\",\"<FAC>\",\"<PER>\",\"<GPE>\"]})\n"
   ]
  },
  {
   "cell_type": "markdown",
   "id": "e25b8eca",
   "metadata": {},
   "source": [
    "# Test Relation type tree"
   ]
  },
  {
   "cell_type": "code",
   "execution_count": 2,
   "id": "1213279b",
   "metadata": {},
   "outputs": [],
   "source": [
    "def get_label_name_tree(label_name_list, tokenizer, end_symbol='<end>'):\n",
    "    # Change recurring into non-recurring labels, \n",
    "    sub_token_tree = dict()\n",
    "\n",
    "    # this is label_name token ids\n",
    "    label_tree = dict()\n",
    "    for typename in label_name_list:\n",
    "        after_tokenized = tokenizer.encode(typename, add_special_tokens=False)\n",
    "        label_tree[typename] = after_tokenized\n",
    "\n",
    "    for _, sub_label_seq in label_tree.items():\n",
    "        # sub_label_seq is the tokenize_ids of typename\n",
    "        parent = sub_token_tree\n",
    "        for value in sub_label_seq:\n",
    "            if value not in parent:\n",
    "                parent[value] = dict()\n",
    "            parent = parent[value]\n",
    "        parent[end_symbol] = None\n",
    "\n",
    "    return sub_token_tree"
   ]
  },
  {
   "cell_type": "code",
   "execution_count": 3,
   "id": "e4104051",
   "metadata": {},
   "outputs": [],
   "source": [
    "label_name_list = [\"PER-SOC\", \"ORG-AFF\", \"GEN-AFF\", \"ART\", \"PART-WHOLE\", \"PHYS\"]\n",
    "a = get_label_name_tree(label_name_list, tokenizer)"
   ]
  },
  {
   "cell_type": "code",
   "execution_count": 1,
   "id": "fd4a418b",
   "metadata": {},
   "outputs": [],
   "source": [
    "from extraction.predict_parser.predict_parser import Metric"
   ]
  },
  {
   "cell_type": "code",
   "execution_count": 2,
   "id": "37af5430",
   "metadata": {},
   "outputs": [],
   "source": [
    "def eval_pred_with_decoding(gold_list, pred_list, text_list=None, raw_list=None):\n",
    "\n",
    "    relation_metric = Metric()\n",
    "\n",
    "    relation_metric.count_instance(gold_list, pred_list,verbose= False)\n",
    "\n",
    "    role_result = relation_metric.compute_f1(prefix='relation-')\n",
    "\n",
    "    result = dict()\n",
    "    result.update(role_result)\n",
    "    return result\n"
   ]
  },
  {
   "cell_type": "code",
   "execution_count": 4,
   "id": "1672b3ad",
   "metadata": {},
   "outputs": [],
   "source": [
    "gold_list = [1,1,1,2,2,2,3,3]\n",
    "pred_list = [1,2,1,1,2,2,3,3]\n",
    "result = eval_pred_with_decoding(gold_list, pred_list)"
   ]
  },
  {
   "cell_type": "code",
   "execution_count": 5,
   "id": "290193de",
   "metadata": {},
   "outputs": [
    {
     "name": "stdout",
     "output_type": "stream",
     "text": [
      "{'relation-tp': 8.0, 'relation-gold': 8.0, 'relation-pred': 8.0, 'relation-P': 100.0, 'relation-R': 100.0, 'relation-F1': 100.0}\n"
     ]
    }
   ],
   "source": [
    "print(result)"
   ]
  },
  {
   "cell_type": "code",
   "execution_count": 14,
   "id": "b23fed7a",
   "metadata": {},
   "outputs": [
    {
     "name": "stdout",
     "output_type": "stream",
     "text": [
      "{'new': 1, 'start': 2}\n"
     ]
    }
   ],
   "source": [
    "a = tokenizer.decode( [0,2090,31999, 32098])\n",
    "b = {\"new\":1, \"start\":2}\n",
    "print(b)"
   ]
  },
  {
   "cell_type": "code",
   "execution_count": 15,
   "id": "a5ca6162",
   "metadata": {},
   "outputs": [
    {
     "name": "stdout",
     "output_type": "stream",
     "text": [
      "<pad> director Internațional<extra_id_1>\n"
     ]
    }
   ],
   "source": [
    "print(a)"
   ]
  },
  {
   "cell_type": "code",
   "execution_count": 2,
   "id": "416c05d0",
   "metadata": {},
   "outputs": [],
   "source": [
    "list_ = [\"<Temp_S>\", \"<Temp_E>\", \"<Relation_S>\", \"<Relation_E>\", \"<ORG>\", \"<VEH>\", \"<WEA>\", \"<LOC>\",\"<FAC>\",\"<PER>\",\"<GPE>\"]\n",
    "list_code = tokenizer.encode(\" \".join(list_))"
   ]
  },
  {
   "cell_type": "code",
   "execution_count": 3,
   "id": "5678526a",
   "metadata": {},
   "outputs": [
    {
     "name": "stdout",
     "output_type": "stream",
     "text": [
      "[32100, 32101, 32102, 32103, 32104, 32105, 32106, 32107, 32108, 32109, 32110, 1]\n"
     ]
    }
   ],
   "source": [
    "print(list_code)"
   ]
  },
  {
   "cell_type": "code",
   "execution_count": null,
   "id": "07d545e6",
   "metadata": {},
   "outputs": [],
   "source": []
  }
 ],
 "metadata": {
  "kernelspec": {
   "display_name": "Python 3 (ipykernel)",
   "language": "python",
   "name": "python3"
  },
  "language_info": {
   "codemirror_mode": {
    "name": "ipython",
    "version": 3
   },
   "file_extension": ".py",
   "mimetype": "text/x-python",
   "name": "python",
   "nbconvert_exporter": "python",
   "pygments_lexer": "ipython3",
   "version": "3.8.12"
  },
  "toc": {
   "base_numbering": 1,
   "nav_menu": {},
   "number_sections": true,
   "sideBar": true,
   "skip_h1_title": false,
   "title_cell": "Table of Contents",
   "title_sidebar": "Contents",
   "toc_cell": false,
   "toc_position": {},
   "toc_section_display": true,
   "toc_window_display": false
  }
 },
 "nbformat": 4,
 "nbformat_minor": 5
}
