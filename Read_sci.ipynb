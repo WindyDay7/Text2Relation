{
 "cells": [
  {
   "cell_type": "code",
   "execution_count": null,
   "id": "1033b30d",
   "metadata": {},
   "outputs": [
    {
     "name": "stderr",
     "output_type": "stream",
     "text": [
      "  0%|          | 0/350 [00:00<?, ?it/s]\n"
     ]
    },
    {
     "name": "stdout",
     "output_type": "stream",
     "text": [
      "niu\n",
      "['English', 'is', 'shown', 'to', 'be', 'trans-context-free', 'on', 'the', 'basis', 'of', 'coordinations', 'of', 'the', 'respectively', 'type', 'that', 'involve', 'strictly', 'syntactic', 'cross-serial', 'agreement', '.']\n",
      "[]\n",
      "['The', 'agreement', 'in', 'question', 'involves', 'number', 'in', 'nouns', 'and', 'reflexive', 'pronouns', 'and', 'is', 'syntactic', 'rather', 'than', 'semantic', 'in', 'nature', 'because', 'grammatical', 'number', 'in', 'English', ',', 'like', 'grammatical', 'gender', 'in', 'languages', 'such', 'as', 'French', ',', 'is', 'partly', 'arbitrary', '.']\n",
      "[[29, 29, 31, 32, 'CONJUNCTION'], [48, 49, 51, 51, 'FEATURE-OF'], [54, 54, 51, 51, 'HYPONYM-OF']]\n",
      "['The', 'formal', 'proof', ',', 'which', 'makes', 'crucial', 'use', 'of', 'the', 'Interchange', 'Lemma', 'of', 'Ogden', 'et', 'al.', ',', 'is', 'so', 'constructed', 'as', 'to', 'be', 'valid', 'even', 'if', 'English', 'is', 'presumed', 'to', 'contain', 'grammatical', 'sentences', 'in', 'which', 'respectively', 'operates', 'across', 'a', 'pair', 'of', 'coordinate', 'phrases', 'one', 'of', 'whose', 'members', 'has', 'fewer', 'conjuncts', 'than', 'the', 'other', ';', 'it', 'thus', 'goes', 'through', 'whatever', 'the', 'facts', 'may', 'be', 'regarding', 'constructions', 'with', 'unequal', 'numbers', 'of', 'conjuncts', 'in', 'the', 'scope', 'of', 'respectively', ',', 'whereas', 'other', 'arguments', 'have', 'foundered', 'on', 'this', 'problem', '.']\n",
      "[]\n",
      "[0, 22, 60]\n"
     ]
    },
    {
     "name": "stderr",
     "output_type": "stream",
     "text": [
      "  0%|          | 0/50 [00:00<?, ?it/s]\n"
     ]
    },
    {
     "name": "stdout",
     "output_type": "stream",
     "text": [
      "niu\n",
      "['This', 'paper', 'presents', 'an', 'algorithm', 'for', 'computing', 'optical', 'flow', ',', 'shape', ',', 'motion', ',', 'lighting', ',', 'and', 'albedo', 'from', 'an', 'image', 'sequence', 'of', 'a', 'rigidly-moving', 'Lambertian', 'object', 'under', 'distant', 'illumination', '.']\n",
      "[[4, 4, 6, 17, 'USED-FOR'], [20, 21, 4, 4, 'USED-FOR'], [24, 26, 20, 21, 'FEATURE-OF'], [28, 29, 24, 26, 'FEATURE-OF']]\n",
      "['The', 'problem', 'is', 'formulated', 'in', 'a', 'manner', 'that', 'subsumes', 'structure', 'from', 'motion', ',', 'multi-view', 'stereo', ',', 'and', 'photo-metric', 'stereo', 'as', 'special', 'cases', '.']\n",
      "[[42, 42, 44, 45, 'CONJUNCTION'], [44, 45, 48, 49, 'CONJUNCTION']]\n",
      "['The', 'algorithm', 'utilizes', 'both', 'spatial', 'and', 'temporal', 'intensity', 'variation', 'as', 'cues', ':', 'the', 'former', 'constrains', 'flow', 'and', 'the', 'latter', 'constrains', 'surface', 'orientation', ';', 'combining', 'both', 'cues', 'enables', 'dense', 'reconstruction', 'of', 'both', 'textured', 'and', 'texture-less', 'surfaces', '.']\n",
      "[[58, 62, 55, 55, 'USED-FOR'], [67, 67, 64, 64, 'HYPONYM-OF'], [67, 67, 69, 69, 'USED-FOR'], [67, 67, 72, 72, 'CONJUNCTION'], [72, 72, 64, 64, 'HYPONYM-OF'], [72, 72, 74, 75, 'USED-FOR'], [79, 79, 81, 88, 'USED-FOR']]\n",
      "['The', 'algorithm', 'works', 'by', 'iteratively', 'estimating', 'affine', 'camera', 'parameters', ',', 'illumination', ',', 'shape', ',', 'and', 'albedo', 'in', 'an', 'alternating', 'fashion', '.']\n",
      "[[95, 105, 91, 91, 'USED-FOR']]\n",
      "['Results', 'are', 'demonstrated', 'on', 'videos', 'of', 'hand-held', 'objects', 'moving', 'in', 'front', 'of', 'a', 'fixed', 'light', 'and', 'camera', '.']\n",
      "[]\n",
      "[0, 31, 54, 90, 111]\n"
     ]
    },
    {
     "name": "stderr",
     "output_type": "stream",
     "text": [
      "\r",
      "  0%|          | 0/100 [00:00<?, ?it/s]"
     ]
    }
   ],
   "source": [
    "#!/usr/bin/env python\n",
    "# -*- coding:utf-8 -*-\n",
    "import os\n",
    "import json\n",
    "from data_convert.utils import read_file, check_output, data_counter_to_table, get_schema, output_schema\n",
    "\n",
    "output_folder = 'data/new_text2tree/sci_relation'\n",
    "conll_2012_folder = \"data/raw_data/sci_relation\"\n",
    "span_output_folder = output_folder + '_span'\n",
    "file_tuple = [\n",
    "    (conll_2012_folder + \"/train.json\", output_folder + '/train'),\n",
    "    (conll_2012_folder + \"/dev.json\", output_folder + '/val'),\n",
    "    (conll_2012_folder + \"/test.json\", output_folder + '/test'),\n",
    "]\n",
    "\n",
    "\n",
    "relation_schema_set = set()\n",
    "for in_filename, output_filename in file_tuple:\n",
    "    if not os.path.exists(output_filename):\n",
    "        os.makedirs(output_filename)\n",
    "    span_output_filename = output_filename.replace(\n",
    "        output_folder, span_output_folder)\n",
    "\n",
    "    if not os.path.exists(span_output_folder):\n",
    "        os.makedirs(span_output_folder)\n",
    "\n",
    "    relation_output = open(output_filename + '.json', 'w')\n",
    "    span_relation_output = open(span_output_filename + '.json', 'w')\n",
    "    \n",
    "    for line in read_file(in_filename):\n",
    "        sentence = json.loads(line.strip())\n",
    "        start_list = []\n",
    "        start = 0\n",
    "#         start_list.append(start)\n",
    "        if \"relations\" in sentence.keys():\n",
    "            print(\"niu\")\n",
    "        for one_sentence, one_relations in zip(sentence[\"sentences\"], sentence[\"relations\"]):\n",
    "            print(one_sentence)\n",
    "            if (len(one_relations) > 0):\n",
    "                a = one_relations[0]\n",
    "            start_list.append(start)\n",
    "            start = start + len(one_sentence)\n",
    "            print(one_relations)\n",
    "        \n",
    "#         print(sentence[\"sentences\"])\n",
    "        print(start_list)\n",
    "        break"
   ]
  },
  {
   "cell_type": "code",
   "execution_count": null,
   "id": "a19b9cf2",
   "metadata": {},
   "outputs": [],
   "source": []
  }
 ],
 "metadata": {
  "kernelspec": {
   "display_name": "Python 3 (ipykernel)",
   "language": "python",
   "name": "python3"
  },
  "language_info": {
   "codemirror_mode": {
    "name": "ipython",
    "version": 3
   },
   "file_extension": ".py",
   "mimetype": "text/x-python",
   "name": "python",
   "nbconvert_exporter": "python",
   "pygments_lexer": "ipython3",
   "version": "3.8.11"
  }
 },
 "nbformat": 4,
 "nbformat_minor": 5
}
